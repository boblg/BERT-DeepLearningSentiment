{
 "cells": [
  {
   "cell_type": "code",
   "execution_count": 1,
   "metadata": {},
   "outputs": [],
   "source": [
    "#Workbook: gaggleExerciseV1, Bob LoGalbo, 30 September 2021"
   ]
  },
  {
   "cell_type": "code",
   "execution_count": 2,
   "metadata": {},
   "outputs": [],
   "source": [
    "# Primary setup reference:  https://www.kaggle.com/giovanimachado/hate-speech-bert-cnn-and-bert-mlp-in-tensorflow\n",
    "# https://keras.io/api to setup tensors and layers.\n",
    "# https://keras.io/api/metrics/ for metrics.\n",
    "# To use the classification_report:  \n",
    "# //scikit-learn.org/stable/modules/generated/sklearn.metrics.classification_report.html#sklearn.metrics.classification_report"
   ]
  },
  {
   "cell_type": "code",
   "execution_count": 3,
   "metadata": {},
   "outputs": [],
   "source": [
    "import numpy as np\n",
    "import pandas as pd\n",
    "import matplotlib.pyplot as plt\n",
    "from sklearn.model_selection import train_test_split as ttt\n",
    "import tensorflow as tf\n",
    "import tensorflow_hub as hub\n",
    "import tensorflow_text as text"
   ]
  },
  {
   "cell_type": "code",
   "execution_count": 4,
   "metadata": {},
   "outputs": [
    {
     "name": "stdout",
     "output_type": "stream",
     "text": [
      "2.6.0\n"
     ]
    }
   ],
   "source": [
    "print(tf.version.VERSION)"
   ]
  },
  {
   "cell_type": "code",
   "execution_count": 5,
   "metadata": {},
   "outputs": [],
   "source": [
    "df_email = pd.read_csv('dataset.psv', sep='|', index_col=False)"
   ]
  },
  {
   "cell_type": "code",
   "execution_count": 6,
   "metadata": {},
   "outputs": [
    {
     "data": {
      "text/html": [
       "<div>\n",
       "<style scoped>\n",
       "    .dataframe tbody tr th:only-of-type {\n",
       "        vertical-align: middle;\n",
       "    }\n",
       "\n",
       "    .dataframe tbody tr th {\n",
       "        vertical-align: top;\n",
       "    }\n",
       "\n",
       "    .dataframe thead th {\n",
       "        text-align: right;\n",
       "    }\n",
       "</style>\n",
       "<table border=\"1\" class=\"dataframe\">\n",
       "  <thead>\n",
       "    <tr style=\"text-align: right;\">\n",
       "      <th></th>\n",
       "      <th>target</th>\n",
       "      <th>text</th>\n",
       "    </tr>\n",
       "  </thead>\n",
       "  <tbody>\n",
       "    <tr>\n",
       "      <th>0</th>\n",
       "      <td>ham</td>\n",
       "      <td>I've been searching for the right words to tha...</td>\n",
       "    </tr>\n",
       "    <tr>\n",
       "      <th>1</th>\n",
       "      <td>spam</td>\n",
       "      <td>Free entry in 2 a wkly comp to win FA Cup fina...</td>\n",
       "    </tr>\n",
       "    <tr>\n",
       "      <th>2</th>\n",
       "      <td>ham</td>\n",
       "      <td>Nah I don't think he goes to usf, he lives aro...</td>\n",
       "    </tr>\n",
       "    <tr>\n",
       "      <th>3</th>\n",
       "      <td>ham</td>\n",
       "      <td>Even my brother is not like to speak with me. ...</td>\n",
       "    </tr>\n",
       "    <tr>\n",
       "      <th>4</th>\n",
       "      <td>ham</td>\n",
       "      <td>I HAVE A DATE ON SUNDAY WITH WILL!!</td>\n",
       "    </tr>\n",
       "  </tbody>\n",
       "</table>\n",
       "</div>"
      ],
      "text/plain": [
       "  target                                               text\n",
       "0    ham  I've been searching for the right words to tha...\n",
       "1   spam  Free entry in 2 a wkly comp to win FA Cup fina...\n",
       "2    ham  Nah I don't think he goes to usf, he lives aro...\n",
       "3    ham  Even my brother is not like to speak with me. ...\n",
       "4    ham                I HAVE A DATE ON SUNDAY WITH WILL!!"
      ]
     },
     "execution_count": 6,
     "metadata": {},
     "output_type": "execute_result"
    }
   ],
   "source": [
    "df_email.head()"
   ]
  },
  {
   "cell_type": "code",
   "execution_count": 7,
   "metadata": {},
   "outputs": [],
   "source": [
    "#Converting classes to scalars (ints cast to floats later)"
   ]
  },
  {
   "cell_type": "code",
   "execution_count": 8,
   "metadata": {},
   "outputs": [
    {
     "data": {
      "text/plain": [
       "target     int32\n",
       "text      object\n",
       "dtype: object"
      ]
     },
     "execution_count": 8,
     "metadata": {},
     "output_type": "execute_result"
    }
   ],
   "source": [
    "df_email['target'].replace({\"ham\":0,\"spam\":1},inplace = True)\n",
    "df_email['target'] = df_email['target'].astype(int)\n",
    "df_email.dtypes"
   ]
  },
  {
   "cell_type": "code",
   "execution_count": 9,
   "metadata": {},
   "outputs": [],
   "source": [
    "#A little exploratory analysis to look at distribution of classes"
   ]
  },
  {
   "cell_type": "code",
   "execution_count": 10,
   "metadata": {},
   "outputs": [
    {
     "data": {
      "text/plain": [
       "0    4824\n",
       "1     746\n",
       "Name: target, dtype: int64"
      ]
     },
     "execution_count": 10,
     "metadata": {},
     "output_type": "execute_result"
    }
   ],
   "source": [
    "scalar_categoryCounts = df_email['target'].value_counts()\n",
    "scalar_categoryCounts"
   ]
  },
  {
   "cell_type": "code",
   "execution_count": 11,
   "metadata": {},
   "outputs": [],
   "source": [
    "# Splitting Ham and Spam into their own dataframes"
   ]
  },
  {
   "cell_type": "code",
   "execution_count": 12,
   "metadata": {},
   "outputs": [
    {
     "data": {
      "text/plain": [
       "(746, 2)"
      ]
     },
     "execution_count": 12,
     "metadata": {},
     "output_type": "execute_result"
    }
   ],
   "source": [
    "df_onlyHam = df_email[df_email['target'] == 0]\n",
    "df_onlySpam = df_email[df_email['target'] == 1]\n",
    "df_onlySpam.shape"
   ]
  },
  {
   "cell_type": "code",
   "execution_count": 13,
   "metadata": {},
   "outputs": [
    {
     "data": {
      "text/html": [
       "<div>\n",
       "<style scoped>\n",
       "    .dataframe tbody tr th:only-of-type {\n",
       "        vertical-align: middle;\n",
       "    }\n",
       "\n",
       "    .dataframe tbody tr th {\n",
       "        vertical-align: top;\n",
       "    }\n",
       "\n",
       "    .dataframe thead th {\n",
       "        text-align: right;\n",
       "    }\n",
       "</style>\n",
       "<table border=\"1\" class=\"dataframe\">\n",
       "  <thead>\n",
       "    <tr style=\"text-align: right;\">\n",
       "      <th></th>\n",
       "      <th>target</th>\n",
       "      <th>text</th>\n",
       "    </tr>\n",
       "  </thead>\n",
       "  <tbody>\n",
       "    <tr>\n",
       "      <th>1</th>\n",
       "      <td>1</td>\n",
       "      <td>Free entry in 2 a wkly comp to win FA Cup fina...</td>\n",
       "    </tr>\n",
       "    <tr>\n",
       "      <th>6</th>\n",
       "      <td>1</td>\n",
       "      <td>WINNER!! As a valued network customer you have...</td>\n",
       "    </tr>\n",
       "    <tr>\n",
       "      <th>7</th>\n",
       "      <td>1</td>\n",
       "      <td>Had your mobile 11 months or more? U R entitle...</td>\n",
       "    </tr>\n",
       "    <tr>\n",
       "      <th>9</th>\n",
       "      <td>1</td>\n",
       "      <td>SIX chances to win CASH! From 100 to 20,000 po...</td>\n",
       "    </tr>\n",
       "    <tr>\n",
       "      <th>10</th>\n",
       "      <td>1</td>\n",
       "      <td>URGENT! You have won a 1 week FREE membership ...</td>\n",
       "    </tr>\n",
       "  </tbody>\n",
       "</table>\n",
       "</div>"
      ],
      "text/plain": [
       "    target                                               text\n",
       "1        1  Free entry in 2 a wkly comp to win FA Cup fina...\n",
       "6        1  WINNER!! As a valued network customer you have...\n",
       "7        1  Had your mobile 11 months or more? U R entitle...\n",
       "9        1  SIX chances to win CASH! From 100 to 20,000 po...\n",
       "10       1  URGENT! You have won a 1 week FREE membership ..."
      ]
     },
     "execution_count": 13,
     "metadata": {},
     "output_type": "execute_result"
    }
   ],
   "source": [
    "df_onlySpam.head()"
   ]
  },
  {
   "cell_type": "code",
   "execution_count": 14,
   "metadata": {},
   "outputs": [
    {
     "data": {
      "text/plain": [
       "(4824, 2)"
      ]
     },
     "execution_count": 14,
     "metadata": {},
     "output_type": "execute_result"
    }
   ],
   "source": [
    "df_onlyHam.shape"
   ]
  },
  {
   "cell_type": "code",
   "execution_count": 15,
   "metadata": {},
   "outputs": [
    {
     "data": {
      "text/html": [
       "<div>\n",
       "<style scoped>\n",
       "    .dataframe tbody tr th:only-of-type {\n",
       "        vertical-align: middle;\n",
       "    }\n",
       "\n",
       "    .dataframe tbody tr th {\n",
       "        vertical-align: top;\n",
       "    }\n",
       "\n",
       "    .dataframe thead th {\n",
       "        text-align: right;\n",
       "    }\n",
       "</style>\n",
       "<table border=\"1\" class=\"dataframe\">\n",
       "  <thead>\n",
       "    <tr style=\"text-align: right;\">\n",
       "      <th></th>\n",
       "      <th>target</th>\n",
       "      <th>text</th>\n",
       "    </tr>\n",
       "  </thead>\n",
       "  <tbody>\n",
       "    <tr>\n",
       "      <th>0</th>\n",
       "      <td>0</td>\n",
       "      <td>I've been searching for the right words to tha...</td>\n",
       "    </tr>\n",
       "    <tr>\n",
       "      <th>2</th>\n",
       "      <td>0</td>\n",
       "      <td>Nah I don't think he goes to usf, he lives aro...</td>\n",
       "    </tr>\n",
       "    <tr>\n",
       "      <th>3</th>\n",
       "      <td>0</td>\n",
       "      <td>Even my brother is not like to speak with me. ...</td>\n",
       "    </tr>\n",
       "    <tr>\n",
       "      <th>4</th>\n",
       "      <td>0</td>\n",
       "      <td>I HAVE A DATE ON SUNDAY WITH WILL!!</td>\n",
       "    </tr>\n",
       "    <tr>\n",
       "      <th>5</th>\n",
       "      <td>0</td>\n",
       "      <td>As per your request 'Melle Melle (Oru Minnamin...</td>\n",
       "    </tr>\n",
       "  </tbody>\n",
       "</table>\n",
       "</div>"
      ],
      "text/plain": [
       "   target                                               text\n",
       "0       0  I've been searching for the right words to tha...\n",
       "2       0  Nah I don't think he goes to usf, he lives aro...\n",
       "3       0  Even my brother is not like to speak with me. ...\n",
       "4       0                I HAVE A DATE ON SUNDAY WITH WILL!!\n",
       "5       0  As per your request 'Melle Melle (Oru Minnamin..."
      ]
     },
     "execution_count": 15,
     "metadata": {},
     "output_type": "execute_result"
    }
   ],
   "source": [
    "df_onlyHam.head()"
   ]
  },
  {
   "cell_type": "code",
   "execution_count": 16,
   "metadata": {},
   "outputs": [],
   "source": [
    "#Creating a balanced train and test dataframe because the desired class is in the vast minority (more later on this)"
   ]
  },
  {
   "cell_type": "code",
   "execution_count": 17,
   "metadata": {},
   "outputs": [],
   "source": [
    "df_ttSet = pd.concat([df_onlySpam,df_onlyHam.sample(df_onlySpam.shape[0])])"
   ]
  },
  {
   "cell_type": "code",
   "execution_count": 18,
   "metadata": {},
   "outputs": [
    {
     "data": {
      "text/plain": [
       "1    746\n",
       "0    746\n",
       "Name: target, dtype: int64"
      ]
     },
     "execution_count": 18,
     "metadata": {},
     "output_type": "execute_result"
    }
   ],
   "source": [
    "df_ttSet['target'].value_counts()"
   ]
  },
  {
   "cell_type": "code",
   "execution_count": 19,
   "metadata": {},
   "outputs": [
    {
     "data": {
      "text/plain": [
       "(1492, 2)"
      ]
     },
     "execution_count": 19,
     "metadata": {},
     "output_type": "execute_result"
    }
   ],
   "source": [
    "df_ttSet.shape"
   ]
  },
  {
   "cell_type": "code",
   "execution_count": 20,
   "metadata": {},
   "outputs": [
    {
     "data": {
      "text/html": [
       "<div>\n",
       "<style scoped>\n",
       "    .dataframe tbody tr th:only-of-type {\n",
       "        vertical-align: middle;\n",
       "    }\n",
       "\n",
       "    .dataframe tbody tr th {\n",
       "        vertical-align: top;\n",
       "    }\n",
       "\n",
       "    .dataframe thead th {\n",
       "        text-align: right;\n",
       "    }\n",
       "</style>\n",
       "<table border=\"1\" class=\"dataframe\">\n",
       "  <thead>\n",
       "    <tr style=\"text-align: right;\">\n",
       "      <th></th>\n",
       "      <th>target</th>\n",
       "      <th>text</th>\n",
       "    </tr>\n",
       "  </thead>\n",
       "  <tbody>\n",
       "    <tr>\n",
       "      <th>1</th>\n",
       "      <td>1</td>\n",
       "      <td>Free entry in 2 a wkly comp to win FA Cup fina...</td>\n",
       "    </tr>\n",
       "    <tr>\n",
       "      <th>6</th>\n",
       "      <td>1</td>\n",
       "      <td>WINNER!! As a valued network customer you have...</td>\n",
       "    </tr>\n",
       "    <tr>\n",
       "      <th>7</th>\n",
       "      <td>1</td>\n",
       "      <td>Had your mobile 11 months or more? U R entitle...</td>\n",
       "    </tr>\n",
       "    <tr>\n",
       "      <th>9</th>\n",
       "      <td>1</td>\n",
       "      <td>SIX chances to win CASH! From 100 to 20,000 po...</td>\n",
       "    </tr>\n",
       "    <tr>\n",
       "      <th>10</th>\n",
       "      <td>1</td>\n",
       "      <td>URGENT! You have won a 1 week FREE membership ...</td>\n",
       "    </tr>\n",
       "  </tbody>\n",
       "</table>\n",
       "</div>"
      ],
      "text/plain": [
       "    target                                               text\n",
       "1        1  Free entry in 2 a wkly comp to win FA Cup fina...\n",
       "6        1  WINNER!! As a valued network customer you have...\n",
       "7        1  Had your mobile 11 months or more? U R entitle...\n",
       "9        1  SIX chances to win CASH! From 100 to 20,000 po...\n",
       "10       1  URGENT! You have won a 1 week FREE membership ..."
      ]
     },
     "execution_count": 20,
     "metadata": {},
     "output_type": "execute_result"
    }
   ],
   "source": [
    "df_ttSet.head()"
   ]
  },
  {
   "cell_type": "code",
   "execution_count": 21,
   "metadata": {},
   "outputs": [],
   "source": [
    "#Because of an imbalanced training set, 'stratify' set to be equal to spam corpus to ensure train & test are 50/50 ham to spam."
   ]
  },
  {
   "cell_type": "code",
   "execution_count": 22,
   "metadata": {},
   "outputs": [],
   "source": [
    "#Imbalanced sets are tricky when the minority class is the desired class to classify (this comment had a lot of 'class' :)"
   ]
  },
  {
   "cell_type": "code",
   "execution_count": 23,
   "metadata": {},
   "outputs": [],
   "source": [
    "#General rule of thumb: when the minority class is the desired class, use all of it and SOME of the majority class."
   ]
  },
  {
   "cell_type": "code",
   "execution_count": 24,
   "metadata": {},
   "outputs": [],
   "source": [
    "array_Xtrain,array_Xtest,array_Ytrain,array_Ytest = ttt(df_ttSet['text'], df_ttSet['target'],stratify = df_ttSet['target'])"
   ]
  },
  {
   "cell_type": "code",
   "execution_count": 25,
   "metadata": {},
   "outputs": [],
   "source": [
    "#Using a pretrained English, non-captilized Bert Transformer neural network (not RNN nor CNN) with 12 'Attention' heads."
   ]
  },
  {
   "cell_type": "code",
   "execution_count": 26,
   "metadata": {},
   "outputs": [],
   "source": [
    "#The concept of Bert is bigger than this code & is worthy of its own discussion. Now load the tokenizer & encoder respectively."
   ]
  },
  {
   "cell_type": "code",
   "execution_count": 27,
   "metadata": {},
   "outputs": [],
   "source": [
    "layer_bertPrePro = hub.KerasLayer(\"https://tfhub.dev/tensorflow/bert_en_uncased_preprocess/3\")"
   ]
  },
  {
   "cell_type": "code",
   "execution_count": 28,
   "metadata": {},
   "outputs": [],
   "source": [
    "layer_bertEncoder = hub.KerasLayer(\"https://tfhub.dev/tensorflow/bert_en_uncased_L-12_H-768_A-12/4\")"
   ]
  },
  {
   "cell_type": "code",
   "execution_count": 29,
   "metadata": {},
   "outputs": [],
   "source": [
    "tensor_in = tf.keras.layers.Input(shape = (), dtype = tf.string, name = 'dataIn')"
   ]
  },
  {
   "cell_type": "code",
   "execution_count": 30,
   "metadata": {},
   "outputs": [],
   "source": [
    "#Tokenize the phrases and encode each token into its respective features below. The line above is the initial unloaded tensor."
   ]
  },
  {
   "cell_type": "code",
   "execution_count": 31,
   "metadata": {},
   "outputs": [],
   "source": [
    "tensor_tokenized = layer_bertPrePro(tensor_in)"
   ]
  },
  {
   "cell_type": "code",
   "execution_count": 32,
   "metadata": {},
   "outputs": [],
   "source": [
    "tensor_encoded = layer_bertEncoder(tensor_tokenized)"
   ]
  },
  {
   "cell_type": "code",
   "execution_count": 33,
   "metadata": {},
   "outputs": [],
   "source": [
    "bert_L1 = tensor_encoded['pooled_output']"
   ]
  },
  {
   "cell_type": "code",
   "execution_count": 34,
   "metadata": {},
   "outputs": [],
   "source": [
    "#Dropout chosen to be .05 to minimize overfit i.e. it regulates the output a tad.  1 or more tensors comprises a neural layer."
   ]
  },
  {
   "cell_type": "code",
   "execution_count": 35,
   "metadata": {},
   "outputs": [],
   "source": [
    "bert_L2 = tf.keras.layers.Dropout(.05)(bert_L1)"
   ]
  },
  {
   "cell_type": "code",
   "execution_count": 36,
   "metadata": {},
   "outputs": [],
   "source": [
    "#Sigmoid (logistic hypothesis function) = 'go-to' binary classification activation function despite vanishing derivative risk."
   ]
  },
  {
   "cell_type": "code",
   "execution_count": 37,
   "metadata": {},
   "outputs": [],
   "source": [
    "#The vanishing derivative occurs when a high value hits the sigmoid and the derivative of a constant is 0, killing backprop."
   ]
  },
  {
   "cell_type": "code",
   "execution_count": 38,
   "metadata": {},
   "outputs": [],
   "source": [
    "#The 'Dense' layer essentially pools all inputs into one node - one node because we're doing binary classification."
   ]
  },
  {
   "cell_type": "code",
   "execution_count": 39,
   "metadata": {},
   "outputs": [],
   "source": [
    "bert_L3 = tf.keras.layers.Dense(1,activation = 'sigmoid', name = 'spamClassifier')(bert_L2)"
   ]
  },
  {
   "cell_type": "code",
   "execution_count": 40,
   "metadata": {},
   "outputs": [],
   "source": [
    "bert_model = tf.keras.Model(tensor_in,bert_L3)"
   ]
  },
  {
   "cell_type": "code",
   "execution_count": 41,
   "metadata": {},
   "outputs": [],
   "source": [
    "#The metrics were chosen so to keep on eye on, not only accuracy, precision and recall but look at the true/false "
   ]
  },
  {
   "cell_type": "code",
   "execution_count": 42,
   "metadata": {},
   "outputs": [],
   "source": [
    "#positive/negative counts.  The area under the ROC curve (TPrate vs FPrate curve) is also tracked."
   ]
  },
  {
   "cell_type": "code",
   "execution_count": 43,
   "metadata": {},
   "outputs": [],
   "source": [
    "list_metrics = [tf.keras.metrics.BinaryAccuracy(name = 'Accuracy', dtype = 'float', threshold = .5),\n",
    "                tf.keras.metrics.Precision(name = 'Precision', dtype = 'float'),\n",
    "                tf.keras.metrics.Recall(name = 'Recall', dtype = 'float'),\n",
    "                tf.keras.metrics.AUC(name = 'AU_ROC', dtype = 'float'),\n",
    "                tf.keras.metrics.TruePositives(name = 'TP', dtype = 'float'),\n",
    "                tf.keras.metrics.TrueNegatives(name = 'TN', dtype = 'float'),\n",
    "                tf.keras.metrics.FalsePositives(name = 'FP', dtype = 'float'),\n",
    "                tf.keras.metrics.FalseNegatives(name = 'FN', dtype = 'float')]"
   ]
  },
  {
   "cell_type": "code",
   "execution_count": 44,
   "metadata": {},
   "outputs": [],
   "source": [
    "#Adam is the 'go-to' gradient descent optimizer for binary classification.  The learning rate was set to an optimal .005."
   ]
  },
  {
   "cell_type": "code",
   "execution_count": 45,
   "metadata": {},
   "outputs": [],
   "source": [
    "#The hope is to get close to the contour's concave inflection point (small learning rates & sigmoids risk that vanishing effect)"
   ]
  },
  {
   "cell_type": "code",
   "execution_count": 46,
   "metadata": {},
   "outputs": [],
   "source": [
    "#Small learning rates mean get very close to partial derivative slopes going to 0 which is a problem with sigmoids."
   ]
  },
  {
   "cell_type": "code",
   "execution_count": 47,
   "metadata": {},
   "outputs": [],
   "source": [
    "#But this learning rate isn't that small in general terms so anticipate getting the best of both worlds."
   ]
  },
  {
   "cell_type": "code",
   "execution_count": 48,
   "metadata": {},
   "outputs": [],
   "source": [
    "opt = tf.keras.optimizers.Adam(learning_rate=0.005)"
   ]
  },
  {
   "cell_type": "code",
   "execution_count": 49,
   "metadata": {},
   "outputs": [],
   "source": [
    "#Classical approach to binary classification using the binary_crossentropy as the cost function "
   ]
  },
  {
   "cell_type": "code",
   "execution_count": 50,
   "metadata": {},
   "outputs": [],
   "source": [
    "bert_model.compile(optimizer = opt, loss = 'binary_crossentropy', metrics = list_metrics) "
   ]
  },
  {
   "cell_type": "code",
   "execution_count": 51,
   "metadata": {},
   "outputs": [],
   "source": [
    "#One can see below, that after the 6th training epoch, steady state was reached i.e. the 10 epochs was more than sufficient."
   ]
  },
  {
   "cell_type": "code",
   "execution_count": 52,
   "metadata": {},
   "outputs": [
    {
     "name": "stdout",
     "output_type": "stream",
     "text": [
      "Epoch 1/10\n",
      "35/35 [==============================] - 152s 4s/step - loss: 0.5207 - Accuracy: 0.7534 - Precision: 0.7540 - Recall: 0.7513 - AU_ROC: 0.8326 - TP: 420.0000 - TN: 423.0000 - FP: 137.0000 - FN: 139.0000\n",
      "Epoch 2/10\n",
      "35/35 [==============================] - 146s 4s/step - loss: 0.3083 - Accuracy: 0.8937 - Precision: 0.8754 - Recall: 0.9177 - AU_ROC: 0.9547 - TP: 513.0000 - TN: 487.0000 - FP: 73.0000 - FN: 46.0000\n",
      "Epoch 3/10\n",
      "35/35 [==============================] - 146s 4s/step - loss: 0.2534 - Accuracy: 0.9133 - Precision: 0.9038 - Recall: 0.9249 - AU_ROC: 0.9683 - TP: 517.0000 - TN: 505.0000 - FP: 55.0000 - FN: 42.0000\n",
      "Epoch 4/10\n",
      "35/35 [==============================] - 145s 4s/step - loss: 0.2298 - Accuracy: 0.9160 - Precision: 0.9072 - Recall: 0.9267 - AU_ROC: 0.9728 - TP: 518.0000 - TN: 507.0000 - FP: 53.0000 - FN: 41.0000\n",
      "Epoch 5/10\n",
      "35/35 [==============================] - 145s 4s/step - loss: 0.2030 - Accuracy: 0.9321 - Precision: 0.9274 - Recall: 0.9374 - AU_ROC: 0.9800 - TP: 524.0000 - TN: 519.0000 - FP: 41.0000 - FN: 35.0000\n",
      "Epoch 6/10\n",
      "35/35 [==============================] - 144s 4s/step - loss: 0.1857 - Accuracy: 0.9348 - Precision: 0.9293 - Recall: 0.9410 - AU_ROC: 0.9822 - TP: 526.0000 - TN: 520.0000 - FP: 40.0000 - FN: 33.0000\n",
      "Epoch 7/10\n",
      "35/35 [==============================] - 147s 4s/step - loss: 0.1724 - Accuracy: 0.9464 - Precision: 0.9447 - Recall: 0.9481 - AU_ROC: 0.9854 - TP: 530.0000 - TN: 529.0000 - FP: 31.0000 - FN: 29.0000\n",
      "Epoch 8/10\n",
      "35/35 [==============================] - 146s 4s/step - loss: 0.1578 - Accuracy: 0.9508 - Precision: 0.9516 - Recall: 0.9499 - AU_ROC: 0.9875 - TP: 531.0000 - TN: 533.0000 - FP: 27.0000 - FN: 28.0000\n",
      "Epoch 9/10\n",
      "35/35 [==============================] - 145s 4s/step - loss: 0.1656 - Accuracy: 0.9446 - Precision: 0.9398 - Recall: 0.9499 - AU_ROC: 0.9856 - TP: 531.0000 - TN: 526.0000 - FP: 34.0000 - FN: 28.0000\n",
      "Epoch 10/10\n",
      "35/35 [==============================] - 148s 4s/step - loss: 0.1440 - Accuracy: 0.9598 - Precision: 0.9573 - Recall: 0.9624 - AU_ROC: 0.9886 - TP: 538.0000 - TN: 536.0000 - FP: 24.0000 - FN: 21.0000\n"
     ]
    }
   ],
   "source": [
    "bert_model_fitted = bert_model.fit(array_Xtrain, array_Ytrain, epochs = 10)"
   ]
  },
  {
   "cell_type": "code",
   "execution_count": 53,
   "metadata": {},
   "outputs": [],
   "source": [
    "#model.evaluate and model.predict are essentially the same processes just that predict gives you the raw, unsliced output."
   ]
  },
  {
   "cell_type": "code",
   "execution_count": 54,
   "metadata": {},
   "outputs": [],
   "source": [
    "#Regarding the confusion matrix, the reader can see the TP, TN, FP, FN counts below when executing the test vectors."
   ]
  },
  {
   "cell_type": "code",
   "execution_count": 55,
   "metadata": {},
   "outputs": [],
   "source": [
    "#The accuracy, precision and recall are promising for continued production potential (excellent ROC as well)"
   ]
  },
  {
   "cell_type": "code",
   "execution_count": 56,
   "metadata": {},
   "outputs": [
    {
     "name": "stdout",
     "output_type": "stream",
     "text": [
      "12/12 [==============================] - 51s 4s/step - loss: 0.1711 - Accuracy: 0.9491 - Precision: 0.9565 - Recall: 0.9412 - AU_ROC: 0.9820 - TP: 176.0000 - TN: 178.0000 - FP: 8.0000 - FN: 11.0000\n"
     ]
    },
    {
     "data": {
      "text/plain": [
       "[0.1711208075284958,\n",
       " 0.9490616917610168,\n",
       " 0.95652174949646,\n",
       " 0.9411764740943909,\n",
       " 0.9819878935813904,\n",
       " 176.0,\n",
       " 178.0,\n",
       " 8.0,\n",
       " 11.0]"
      ]
     },
     "execution_count": 56,
     "metadata": {},
     "output_type": "execute_result"
    }
   ],
   "source": [
    "bert_model.evaluate(array_Xtest,array_Ytest)"
   ]
  },
  {
   "cell_type": "code",
   "execution_count": 57,
   "metadata": {},
   "outputs": [],
   "source": [
    "array_yPredicted = bert_model.predict(array_Xtest)"
   ]
  },
  {
   "cell_type": "code",
   "execution_count": 58,
   "metadata": {},
   "outputs": [],
   "source": [
    "array_yPredictedFlattened = array_yPredicted.flatten()"
   ]
  },
  {
   "cell_type": "code",
   "execution_count": 59,
   "metadata": {},
   "outputs": [],
   "source": [
    "#Classical MLE slicing to quantize to either 0 or 1 using same variances for both distributions."
   ]
  },
  {
   "cell_type": "code",
   "execution_count": 60,
   "metadata": {},
   "outputs": [],
   "source": [
    "array_yPredictedFlattenedQuantized = [0.0 if x < .5 else 1.0 for x in array_yPredictedFlattened]"
   ]
  },
  {
   "cell_type": "code",
   "execution_count": 61,
   "metadata": {},
   "outputs": [],
   "source": [
    "array_YtestFloat = array_Ytest.astype('float32')"
   ]
  },
  {
   "cell_type": "code",
   "execution_count": 62,
   "metadata": {},
   "outputs": [],
   "source": [
    "from sklearn.metrics import classification_report"
   ]
  },
  {
   "cell_type": "code",
   "execution_count": 63,
   "metadata": {},
   "outputs": [],
   "source": [
    "#The sklearn classifcation report creates a nice layout of key metrics."
   ]
  },
  {
   "cell_type": "code",
   "execution_count": 64,
   "metadata": {},
   "outputs": [],
   "source": [
    "#Essentially same output as model.evaluate with the additional harmonic mean of recall and precision(i.e. F1)"
   ]
  },
  {
   "cell_type": "code",
   "execution_count": 65,
   "metadata": {},
   "outputs": [
    {
     "name": "stdout",
     "output_type": "stream",
     "text": [
      "              precision    recall  f1-score   support\n",
      "\n",
      "           0       0.94      0.96      0.95       186\n",
      "           1       0.96      0.94      0.95       187\n",
      "\n",
      "    accuracy                           0.95       373\n",
      "   macro avg       0.95      0.95      0.95       373\n",
      "weighted avg       0.95      0.95      0.95       373\n",
      "\n"
     ]
    }
   ],
   "source": [
    "print(classification_report(array_Ytest,array_yPredictedFlattenedQuantized))"
   ]
  },
  {
   "cell_type": "code",
   "execution_count": 66,
   "metadata": {},
   "outputs": [],
   "source": [
    "#Both the training and test results show a good balance of fit to bias.  All of the spam corpus used for either train or test."
   ]
  },
  {
   "cell_type": "code",
   "execution_count": 67,
   "metadata": {},
   "outputs": [],
   "source": [
    "#Little bias shown in training; and test scored comparably high, matching training, indicating no perceptible overfit."
   ]
  },
  {
   "cell_type": "code",
   "execution_count": 68,
   "metadata": {},
   "outputs": [],
   "source": [
    "#For example, accuracy consistent in test and in train.  "
   ]
  },
  {
   "cell_type": "code",
   "execution_count": 69,
   "metadata": {},
   "outputs": [],
   "source": [
    "#Same for F1 score (consistent in both test/train): maintains constancy with small 1% tradeoff bounces between precison & recall"
   ]
  },
  {
   "cell_type": "code",
   "execution_count": 70,
   "metadata": {},
   "outputs": [],
   "source": [
    "#'In the wild', there may be more spam and ham variance than is captured by the sample used for this exercise."
   ]
  },
  {
   "cell_type": "code",
   "execution_count": 71,
   "metadata": {},
   "outputs": [],
   "source": [
    "#More variance in the wild implies a bigger dropout needed to regulate overfitting, which would reduce scores after retraining."
   ]
  },
  {
   "cell_type": "code",
   "execution_count": 72,
   "metadata": {},
   "outputs": [],
   "source": [
    "#This is an English model only (other Bert languages models available.)  Capital lettered words not examined in this exercise."
   ]
  },
  {
   "cell_type": "code",
   "execution_count": 74,
   "metadata": {},
   "outputs": [],
   "source": [
    "#So I would look to expanding the spam corpus; investigating capital letters; tuning the dropouts and learning rate."
   ]
  },
  {
   "cell_type": "code",
   "execution_count": 75,
   "metadata": {},
   "outputs": [],
   "source": [
    "#Note that I kept the raw scores out of the final Dense layer."
   ]
  },
  {
   "cell_type": "code",
   "execution_count": 76,
   "metadata": {},
   "outputs": [],
   "source": [
    "#The MLE slicer assumed equal variance of both distributions which is another point to analyze."
   ]
  },
  {
   "cell_type": "code",
   "execution_count": 77,
   "metadata": {},
   "outputs": [],
   "source": [
    "#And because raw scores were captured, can look back, scrutenize the FN's and FP's and look for commonalities in the spam text."
   ]
  },
  {
   "cell_type": "code",
   "execution_count": 78,
   "metadata": {},
   "outputs": [],
   "source": [
    "#Google implements Bert for autoComplete today so I would expect Bert is an excellent approach for the wild."
   ]
  },
  {
   "cell_type": "code",
   "execution_count": 79,
   "metadata": {},
   "outputs": [
    {
     "data": {
      "text/plain": [
       "(373,)"
      ]
     },
     "execution_count": 79,
     "metadata": {},
     "output_type": "execute_result"
    }
   ],
   "source": [
    "array_Ytest.shape"
   ]
  },
  {
   "cell_type": "code",
   "execution_count": 80,
   "metadata": {},
   "outputs": [
    {
     "data": {
      "text/plain": [
       "(1119,)"
      ]
     },
     "execution_count": 80,
     "metadata": {},
     "output_type": "execute_result"
    }
   ],
   "source": [
    "array_Ytrain.shape"
   ]
  },
  {
   "cell_type": "code",
   "execution_count": null,
   "metadata": {},
   "outputs": [],
   "source": []
  }
 ],
 "metadata": {
  "kernelspec": {
   "display_name": "Python 3",
   "language": "python",
   "name": "python3"
  },
  "language_info": {
   "codemirror_mode": {
    "name": "ipython",
    "version": 3
   },
   "file_extension": ".py",
   "mimetype": "text/x-python",
   "name": "python",
   "nbconvert_exporter": "python",
   "pygments_lexer": "ipython3",
   "version": "3.8.5"
  }
 },
 "nbformat": 4,
 "nbformat_minor": 4
}
